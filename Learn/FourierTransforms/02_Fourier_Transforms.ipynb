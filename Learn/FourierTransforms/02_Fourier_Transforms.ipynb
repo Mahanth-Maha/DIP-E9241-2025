{
 "cells": [
  {
   "cell_type": "markdown",
   "id": "5b22199c",
   "metadata": {},
   "source": [
    "# Fourier Transforms"
   ]
  },
  {
   "cell_type": "code",
   "execution_count": null,
   "id": "369f10ce",
   "metadata": {},
   "outputs": [],
   "source": []
  }
 ],
 "metadata": {
  "kernelspec": {
   "display_name": "iisc",
   "language": "python",
   "name": "python3"
  },
  "language_info": {
   "name": "python",
   "version": "3.9.15"
  }
 },
 "nbformat": 4,
 "nbformat_minor": 5
}
